{
 "cells": [
  {
   "cell_type": "code",
   "execution_count": 2,
   "metadata": {},
   "outputs": [],
   "source": [
    "import os\n",
    "import json\n",
    "\n",
    "import octomap\n",
    "import numpy as np\n",
    "import open3d as o3d"
   ]
  },
  {
   "cell_type": "code",
   "execution_count": 3,
   "metadata": {},
   "outputs": [],
   "source": [
    "DATA_ROOT = \"../../raw/jrdb\"\n",
    "LABELS_DIR = \"labels/labels_3d\"\n",
    "PCD_DIR = \"pointclouds/lower_velodyne\""
   ]
  },
  {
   "cell_type": "markdown",
   "metadata": {},
   "source": [
    "## Explore labels"
   ]
  },
  {
   "cell_type": "code",
   "execution_count": 4,
   "metadata": {},
   "outputs": [],
   "source": [
    "label_files = [filename for filename in os.listdir(os.path.join(DATA_ROOT, LABELS_DIR)) if filename.endswith(\".json\")]"
   ]
  },
  {
   "cell_type": "code",
   "execution_count": 5,
   "metadata": {},
   "outputs": [],
   "source": [
    "locations = set([filename.split(\"_\")[0] for filename in label_files])"
   ]
  },
  {
   "cell_type": "code",
   "execution_count": 6,
   "metadata": {},
   "outputs": [
    {
     "data": {
      "text/plain": [
       "{'bytes-cafe-2019-02-07',\n",
       " 'clark-center-2019-02-28',\n",
       " 'clark-center-intersection-2019-02-28',\n",
       " 'cubberly-auditorium-2019-04-22',\n",
       " 'forbes-cafe-2019-01-22',\n",
       " 'gates-159-group-meeting-2019-04-03',\n",
       " 'gates-ai-lab-2019-02-08',\n",
       " 'gates-basement-elevators-2019-01-17',\n",
       " 'gates-to-clark-2019-02-28',\n",
       " 'hewlett-packard-intersection-2019-01-24',\n",
       " 'huang-2-2019-01-25',\n",
       " 'huang-basement-2019-01-25',\n",
       " 'huang-lane-2019-02-12',\n",
       " 'jordan-hall-2019-04-22',\n",
       " 'memorial-court-2019-03-16',\n",
       " 'meyer-green-2019-03-16',\n",
       " 'nvidia-aud-2019-04-18',\n",
       " 'packard-poster-session-2019-03-20',\n",
       " 'stlc-111-2019-04-19',\n",
       " 'svl-meeting-gates-2-2019-04-08',\n",
       " 'tressider-2019-03-16',\n",
       " 'tressider-2019-04-26'}"
      ]
     },
     "execution_count": 6,
     "metadata": {},
     "output_type": "execute_result"
    }
   ],
   "source": [
    "locations"
   ]
  },
  {
   "cell_type": "code",
   "execution_count": 7,
   "metadata": {},
   "outputs": [
    {
     "name": "stdout",
     "output_type": "stream",
     "text": [
      "There are 22 different locations in this dataset:\n",
      "{'gates-159-group-meeting-2019-04-03', 'jordan-hall-2019-04-22', 'cubberly-auditorium-2019-04-22', 'meyer-green-2019-03-16', 'hewlett-packard-intersection-2019-01-24', 'clark-center-intersection-2019-02-28', 'huang-2-2019-01-25', 'memorial-court-2019-03-16', 'forbes-cafe-2019-01-22', 'huang-lane-2019-02-12', 'clark-center-2019-02-28', 'gates-ai-lab-2019-02-08', 'stlc-111-2019-04-19', 'gates-to-clark-2019-02-28', 'nvidia-aud-2019-04-18', 'tressider-2019-04-26', 'tressider-2019-03-16', 'svl-meeting-gates-2-2019-04-08', 'huang-basement-2019-01-25', 'gates-basement-elevators-2019-01-17', 'bytes-cafe-2019-02-07', 'packard-poster-session-2019-03-20'}\n"
     ]
    }
   ],
   "source": [
    "# Print all different locations in this dataset\n",
    "print(f\"There are {len(locations)} different locations in this dataset:\")\n",
    "print(locations)"
   ]
  },
  {
   "cell_type": "code",
   "execution_count": 8,
   "metadata": {},
   "outputs": [],
   "source": [
    "with open(os.path.join(DATA_ROOT, LABELS_DIR, label_files[0]), \"r\") as fp:\n",
    "    label = json.load(fp)['labels']"
   ]
  },
  {
   "cell_type": "code",
   "execution_count": 9,
   "metadata": {},
   "outputs": [
    {
     "data": {
      "text/plain": [
       "dict_keys(['000000.pcd', '000001.pcd', '000002.pcd', '000003.pcd', '000004.pcd', '000005.pcd', '000006.pcd', '000007.pcd', '000008.pcd', '000009.pcd', '000010.pcd', '000011.pcd', '000012.pcd', '000013.pcd', '000014.pcd', '000015.pcd', '000016.pcd', '000017.pcd', '000018.pcd', '000019.pcd', '000020.pcd', '000021.pcd', '000022.pcd', '000023.pcd', '000024.pcd', '000025.pcd', '000026.pcd', '000027.pcd', '000028.pcd', '000029.pcd', '000030.pcd', '000031.pcd', '000032.pcd', '000033.pcd', '000034.pcd', '000035.pcd', '000036.pcd', '000037.pcd', '000038.pcd', '000039.pcd', '000040.pcd', '000041.pcd', '000042.pcd', '000043.pcd', '000044.pcd', '000045.pcd', '000046.pcd', '000047.pcd', '000048.pcd', '000049.pcd', '000050.pcd', '000051.pcd', '000052.pcd', '000053.pcd', '000054.pcd', '000055.pcd', '000056.pcd', '000057.pcd', '000058.pcd', '000059.pcd', '000060.pcd', '000061.pcd', '000062.pcd', '000063.pcd', '000064.pcd', '000065.pcd', '000066.pcd', '000067.pcd', '000068.pcd', '000069.pcd', '000070.pcd', '000071.pcd', '000072.pcd', '000073.pcd', '000074.pcd', '000075.pcd', '000076.pcd', '000077.pcd', '000078.pcd', '000079.pcd', '000080.pcd', '000081.pcd', '000082.pcd', '000083.pcd', '000084.pcd', '000085.pcd', '000086.pcd', '000087.pcd', '000088.pcd', '000089.pcd', '000090.pcd', '000091.pcd', '000092.pcd', '000093.pcd', '000094.pcd', '000095.pcd', '000096.pcd', '000097.pcd', '000098.pcd', '000099.pcd', '000100.pcd', '000101.pcd', '000102.pcd', '000103.pcd', '000104.pcd', '000105.pcd', '000106.pcd', '000107.pcd', '000108.pcd', '000109.pcd', '000110.pcd', '000111.pcd', '000112.pcd', '000113.pcd', '000114.pcd', '000115.pcd', '000116.pcd', '000117.pcd', '000118.pcd', '000119.pcd', '000120.pcd', '000121.pcd', '000122.pcd', '000123.pcd', '000124.pcd', '000125.pcd', '000126.pcd', '000127.pcd', '000128.pcd', '000129.pcd', '000130.pcd', '000131.pcd', '000132.pcd', '000133.pcd', '000134.pcd', '000135.pcd', '000136.pcd', '000137.pcd', '000138.pcd', '000139.pcd', '000140.pcd', '000141.pcd', '000142.pcd', '000143.pcd', '000144.pcd', '000145.pcd', '000146.pcd', '000147.pcd', '000148.pcd', '000149.pcd', '000150.pcd', '000151.pcd', '000152.pcd', '000153.pcd', '000154.pcd', '000155.pcd', '000156.pcd', '000157.pcd', '000158.pcd', '000159.pcd', '000160.pcd', '000161.pcd', '000162.pcd', '000163.pcd', '000164.pcd', '000165.pcd', '000166.pcd', '000167.pcd', '000168.pcd', '000169.pcd', '000170.pcd', '000171.pcd', '000172.pcd', '000173.pcd', '000174.pcd', '000175.pcd', '000176.pcd', '000177.pcd', '000178.pcd', '000179.pcd', '000180.pcd', '000181.pcd', '000182.pcd', '000183.pcd', '000184.pcd', '000185.pcd', '000186.pcd', '000187.pcd', '000188.pcd', '000189.pcd', '000190.pcd', '000191.pcd', '000192.pcd', '000193.pcd', '000194.pcd', '000195.pcd', '000196.pcd', '000197.pcd', '000198.pcd', '000199.pcd', '000200.pcd', '000201.pcd', '000202.pcd', '000203.pcd', '000204.pcd', '000205.pcd', '000206.pcd', '000207.pcd', '000208.pcd', '000209.pcd', '000210.pcd', '000211.pcd', '000212.pcd', '000213.pcd', '000214.pcd', '000215.pcd', '000216.pcd', '000217.pcd', '000218.pcd', '000219.pcd', '000220.pcd', '000221.pcd', '000222.pcd', '000223.pcd', '000224.pcd', '000225.pcd', '000226.pcd', '000227.pcd', '000228.pcd', '000229.pcd', '000230.pcd', '000231.pcd', '000232.pcd', '000233.pcd', '000234.pcd', '000235.pcd', '000236.pcd', '000237.pcd', '000238.pcd', '000239.pcd', '000240.pcd', '000241.pcd', '000242.pcd', '000243.pcd', '000244.pcd', '000245.pcd', '000246.pcd', '000247.pcd', '000248.pcd', '000249.pcd', '000250.pcd', '000251.pcd', '000252.pcd', '000253.pcd', '000254.pcd', '000255.pcd', '000256.pcd', '000257.pcd', '000258.pcd', '000259.pcd', '000260.pcd', '000261.pcd', '000262.pcd', '000263.pcd', '000264.pcd', '000265.pcd', '000266.pcd', '000267.pcd', '000268.pcd', '000269.pcd', '000270.pcd', '000271.pcd', '000272.pcd', '000273.pcd', '000274.pcd', '000275.pcd', '000276.pcd', '000277.pcd', '000278.pcd', '000279.pcd', '000280.pcd', '000281.pcd', '000282.pcd', '000283.pcd', '000284.pcd', '000285.pcd', '000286.pcd', '000287.pcd', '000288.pcd', '000289.pcd', '000290.pcd', '000291.pcd', '000292.pcd', '000293.pcd', '000294.pcd', '000295.pcd', '000296.pcd', '000297.pcd', '000298.pcd', '000299.pcd', '000300.pcd', '000301.pcd', '000302.pcd', '000303.pcd', '000304.pcd', '000305.pcd', '000306.pcd', '000307.pcd', '000308.pcd', '000309.pcd', '000310.pcd', '000311.pcd', '000312.pcd', '000313.pcd', '000314.pcd', '000315.pcd', '000316.pcd', '000317.pcd', '000318.pcd', '000319.pcd', '000320.pcd', '000321.pcd', '000322.pcd', '000323.pcd', '000324.pcd', '000325.pcd', '000326.pcd', '000327.pcd', '000328.pcd', '000329.pcd', '000330.pcd', '000331.pcd', '000332.pcd', '000333.pcd', '000334.pcd', '000335.pcd', '000336.pcd', '000337.pcd', '000338.pcd', '000339.pcd', '000340.pcd', '000341.pcd', '000342.pcd', '000343.pcd', '000344.pcd', '000345.pcd', '000346.pcd', '000347.pcd', '000348.pcd', '000349.pcd', '000350.pcd', '000351.pcd', '000352.pcd', '000353.pcd', '000354.pcd', '000355.pcd', '000356.pcd', '000357.pcd', '000358.pcd', '000359.pcd', '000360.pcd', '000361.pcd', '000362.pcd', '000363.pcd', '000364.pcd', '000365.pcd', '000366.pcd', '000367.pcd', '000368.pcd', '000369.pcd', '000370.pcd', '000371.pcd', '000372.pcd', '000373.pcd', '000374.pcd', '000375.pcd', '000376.pcd', '000377.pcd', '000378.pcd', '000379.pcd', '000380.pcd', '000381.pcd', '000382.pcd', '000383.pcd', '000384.pcd', '000385.pcd', '000386.pcd', '000387.pcd', '000388.pcd', '000389.pcd', '000390.pcd', '000391.pcd', '000392.pcd', '000393.pcd', '000394.pcd', '000395.pcd', '000396.pcd', '000397.pcd', '000398.pcd', '000399.pcd', '000400.pcd', '000401.pcd', '000402.pcd', '000403.pcd', '000404.pcd', '000405.pcd', '000406.pcd', '000407.pcd', '000408.pcd', '000409.pcd', '000410.pcd', '000411.pcd', '000412.pcd', '000413.pcd', '000414.pcd', '000415.pcd', '000416.pcd', '000417.pcd', '000418.pcd', '000419.pcd', '000420.pcd', '000421.pcd', '000422.pcd', '000423.pcd', '000424.pcd', '000425.pcd', '000426.pcd', '000427.pcd', '000428.pcd', '000429.pcd', '000430.pcd', '000431.pcd', '000432.pcd', '000433.pcd', '000434.pcd', '000435.pcd', '000436.pcd', '000437.pcd', '000438.pcd', '000439.pcd', '000440.pcd', '000441.pcd', '000442.pcd', '000443.pcd', '000444.pcd', '000445.pcd', '000446.pcd', '000447.pcd', '000448.pcd', '000449.pcd', '000450.pcd', '000451.pcd', '000452.pcd', '000453.pcd', '000454.pcd', '000455.pcd', '000456.pcd', '000457.pcd', '000458.pcd', '000459.pcd', '000460.pcd', '000461.pcd', '000462.pcd', '000463.pcd', '000464.pcd', '000465.pcd', '000466.pcd', '000467.pcd', '000468.pcd', '000469.pcd', '000470.pcd', '000471.pcd', '000472.pcd', '000473.pcd', '000474.pcd', '000475.pcd', '000476.pcd', '000477.pcd', '000478.pcd', '000479.pcd', '000480.pcd', '000481.pcd', '000482.pcd', '000483.pcd', '000484.pcd', '000485.pcd', '000486.pcd', '000487.pcd', '000488.pcd', '000489.pcd', '000490.pcd', '000491.pcd', '000492.pcd', '000493.pcd', '000494.pcd', '000495.pcd', '000496.pcd', '000497.pcd', '000498.pcd', '000499.pcd', '000500.pcd', '000501.pcd', '000502.pcd', '000503.pcd', '000504.pcd', '000505.pcd', '000506.pcd', '000507.pcd', '000508.pcd', '000509.pcd', '000510.pcd', '000511.pcd', '000512.pcd', '000513.pcd', '000514.pcd', '000515.pcd', '000516.pcd', '000517.pcd', '000518.pcd', '000519.pcd', '000520.pcd', '000521.pcd', '000522.pcd', '000523.pcd', '000524.pcd', '000525.pcd', '000526.pcd', '000527.pcd', '000528.pcd', '000529.pcd', '000530.pcd', '000531.pcd', '000532.pcd', '000533.pcd', '000534.pcd', '000535.pcd', '000536.pcd', '000537.pcd', '000538.pcd', '000539.pcd', '000540.pcd', '000541.pcd', '000542.pcd', '000543.pcd', '000544.pcd', '000545.pcd', '000546.pcd', '000547.pcd', '000548.pcd', '000549.pcd', '000550.pcd', '000551.pcd', '000552.pcd', '000553.pcd', '000554.pcd', '000555.pcd', '000556.pcd', '000557.pcd', '000558.pcd', '000559.pcd', '000560.pcd', '000561.pcd', '000562.pcd', '000563.pcd', '000564.pcd', '000565.pcd', '000566.pcd', '000567.pcd', '000568.pcd', '000569.pcd', '000570.pcd', '000571.pcd', '000572.pcd', '000573.pcd', '000574.pcd', '000575.pcd', '000576.pcd', '000577.pcd', '000578.pcd', '000579.pcd', '000580.pcd', '000581.pcd', '000582.pcd', '000583.pcd', '000584.pcd', '000585.pcd', '000586.pcd', '000587.pcd', '000588.pcd', '000589.pcd', '000590.pcd', '000591.pcd', '000592.pcd', '000593.pcd', '000594.pcd', '000595.pcd', '000596.pcd', '000597.pcd', '000598.pcd', '000599.pcd', '000600.pcd', '000601.pcd', '000602.pcd', '000603.pcd', '000604.pcd', '000605.pcd', '000606.pcd', '000607.pcd', '000608.pcd', '000609.pcd', '000610.pcd', '000611.pcd', '000612.pcd', '000613.pcd', '000614.pcd', '000615.pcd', '000616.pcd', '000617.pcd', '000618.pcd', '000619.pcd', '000620.pcd', '000621.pcd', '000622.pcd', '000623.pcd', '000624.pcd', '000625.pcd', '000626.pcd', '000627.pcd', '000628.pcd', '000629.pcd', '000630.pcd', '000631.pcd', '000632.pcd', '000633.pcd', '000634.pcd', '000635.pcd', '000636.pcd', '000637.pcd', '000638.pcd', '000639.pcd', '000640.pcd', '000641.pcd', '000642.pcd', '000643.pcd', '000644.pcd', '000645.pcd', '000646.pcd', '000647.pcd', '000648.pcd', '000649.pcd', '000650.pcd', '000651.pcd', '000652.pcd', '000653.pcd', '000654.pcd', '000655.pcd', '000656.pcd', '000657.pcd', '000658.pcd', '000659.pcd', '000660.pcd', '000661.pcd', '000662.pcd', '000663.pcd', '000664.pcd', '000665.pcd', '000666.pcd', '000667.pcd', '000668.pcd', '000669.pcd', '000670.pcd', '000671.pcd', '000672.pcd', '000673.pcd', '000674.pcd', '000675.pcd', '000676.pcd', '000677.pcd', '000678.pcd', '000679.pcd', '000680.pcd', '000681.pcd', '000682.pcd', '000683.pcd', '000684.pcd', '000685.pcd', '000686.pcd', '000687.pcd', '000688.pcd', '000689.pcd', '000690.pcd', '000691.pcd', '000692.pcd', '000693.pcd', '000694.pcd', '000695.pcd', '000696.pcd', '000697.pcd', '000698.pcd', '000699.pcd', '000700.pcd', '000701.pcd', '000702.pcd', '000703.pcd', '000704.pcd', '000705.pcd', '000706.pcd', '000707.pcd', '000708.pcd', '000709.pcd', '000710.pcd', '000711.pcd', '000712.pcd', '000713.pcd', '000714.pcd', '000715.pcd', '000716.pcd', '000717.pcd', '000718.pcd', '000719.pcd', '000720.pcd', '000721.pcd', '000722.pcd', '000723.pcd', '000724.pcd', '000725.pcd', '000726.pcd', '000727.pcd', '000728.pcd', '000729.pcd', '000730.pcd', '000731.pcd', '000732.pcd', '000733.pcd', '000734.pcd', '000735.pcd', '000736.pcd', '000737.pcd', '000738.pcd', '000739.pcd', '000740.pcd', '000741.pcd', '000742.pcd', '000743.pcd', '000744.pcd', '000745.pcd', '000746.pcd', '000747.pcd', '000748.pcd', '000749.pcd', '000750.pcd', '000751.pcd', '000752.pcd', '000753.pcd', '000754.pcd', '000755.pcd', '000756.pcd', '000757.pcd', '000758.pcd', '000759.pcd', '000760.pcd', '000761.pcd', '000762.pcd', '000763.pcd', '000764.pcd', '000765.pcd', '000766.pcd', '000767.pcd', '000768.pcd', '000769.pcd', '000770.pcd', '000771.pcd', '000772.pcd', '000773.pcd', '000774.pcd', '000775.pcd', '000776.pcd', '000777.pcd', '000778.pcd', '000779.pcd', '000780.pcd', '000781.pcd', '000782.pcd', '000783.pcd', '000784.pcd', '000785.pcd', '000786.pcd', '000787.pcd', '000788.pcd', '000789.pcd', '000790.pcd', '000791.pcd', '000792.pcd', '000793.pcd', '000794.pcd', '000795.pcd', '000796.pcd', '000797.pcd', '000798.pcd', '000799.pcd', '000800.pcd', '000801.pcd', '000802.pcd', '000803.pcd', '000804.pcd', '000805.pcd', '000806.pcd', '000807.pcd', '000808.pcd', '000809.pcd', '000810.pcd', '000811.pcd', '000812.pcd', '000813.pcd', '000814.pcd', '000815.pcd', '000816.pcd', '000817.pcd', '000818.pcd', '000819.pcd', '000820.pcd', '000821.pcd', '000822.pcd', '000823.pcd', '000824.pcd', '000825.pcd', '000826.pcd', '000827.pcd', '000828.pcd', '000829.pcd', '000830.pcd', '000831.pcd', '000832.pcd', '000833.pcd', '000834.pcd', '000835.pcd', '000836.pcd', '000837.pcd', '000838.pcd', '000839.pcd', '000840.pcd', '000841.pcd', '000842.pcd', '000843.pcd', '000844.pcd', '000845.pcd', '000846.pcd', '000847.pcd', '000848.pcd', '000849.pcd', '000850.pcd', '000851.pcd', '000852.pcd', '000853.pcd', '000854.pcd', '000855.pcd', '000856.pcd', '000857.pcd', '000858.pcd', '000859.pcd', '000860.pcd', '000861.pcd', '000862.pcd', '000863.pcd', '000864.pcd', '000865.pcd', '000866.pcd', '000867.pcd', '000868.pcd', '000869.pcd', '000870.pcd', '000871.pcd', '000872.pcd', '000873.pcd', '000874.pcd', '000875.pcd', '000876.pcd', '000877.pcd', '000878.pcd', '000879.pcd', '000880.pcd', '000881.pcd', '000882.pcd', '000883.pcd', '000884.pcd', '000885.pcd', '000886.pcd', '000887.pcd', '000888.pcd', '000889.pcd', '000890.pcd', '000891.pcd', '000892.pcd', '000893.pcd', '000894.pcd', '000895.pcd', '000896.pcd', '000897.pcd', '000898.pcd', '000899.pcd', '000900.pcd', '000901.pcd', '000902.pcd', '000903.pcd', '000904.pcd', '000905.pcd', '000906.pcd', '000907.pcd', '000908.pcd', '000909.pcd', '000910.pcd', '000911.pcd', '000912.pcd', '000913.pcd', '000914.pcd', '000915.pcd', '000916.pcd', '000917.pcd', '000918.pcd', '000919.pcd', '000920.pcd', '000921.pcd', '000922.pcd', '000923.pcd', '000924.pcd', '000925.pcd', '000926.pcd', '000927.pcd', '000928.pcd', '000929.pcd', '000930.pcd', '000931.pcd', '000932.pcd', '000933.pcd', '000934.pcd', '000935.pcd', '000936.pcd', '000937.pcd', '000938.pcd', '000939.pcd', '000940.pcd', '000941.pcd', '000942.pcd', '000943.pcd', '000944.pcd', '000945.pcd', '000946.pcd', '000947.pcd', '000948.pcd', '000949.pcd', '000950.pcd', '000951.pcd', '000952.pcd', '000953.pcd', '000954.pcd', '000955.pcd', '000956.pcd', '000957.pcd', '000958.pcd', '000959.pcd', '000960.pcd', '000961.pcd', '000962.pcd', '000963.pcd', '000964.pcd', '000965.pcd', '000966.pcd', '000967.pcd', '000968.pcd', '000969.pcd', '000970.pcd', '000971.pcd', '000972.pcd', '000973.pcd', '000974.pcd', '000975.pcd', '000976.pcd', '000977.pcd', '000978.pcd', '000979.pcd', '000980.pcd', '000981.pcd', '000982.pcd', '000983.pcd', '000984.pcd', '000985.pcd', '000986.pcd', '000987.pcd', '000988.pcd', '000989.pcd', '000990.pcd', '000991.pcd', '000992.pcd', '000993.pcd', '000994.pcd', '000995.pcd', '000996.pcd', '000997.pcd', '000998.pcd', '000999.pcd', '001000.pcd', '001001.pcd', '001002.pcd', '001003.pcd', '001004.pcd', '001005.pcd', '001006.pcd', '001007.pcd', '001008.pcd', '001009.pcd', '001010.pcd', '001011.pcd', '001012.pcd', '001013.pcd', '001014.pcd', '001015.pcd', '001016.pcd', '001017.pcd', '001018.pcd', '001019.pcd', '001020.pcd', '001021.pcd', '001022.pcd', '001023.pcd', '001024.pcd', '001025.pcd', '001026.pcd', '001027.pcd', '001028.pcd', '001029.pcd', '001030.pcd', '001031.pcd', '001032.pcd', '001033.pcd', '001034.pcd', '001035.pcd', '001036.pcd', '001037.pcd', '001038.pcd', '001039.pcd', '001040.pcd', '001041.pcd', '001042.pcd', '001043.pcd', '001044.pcd', '001045.pcd', '001046.pcd', '001047.pcd', '001048.pcd', '001049.pcd', '001050.pcd', '001051.pcd', '001052.pcd', '001053.pcd', '001054.pcd', '001055.pcd', '001056.pcd', '001057.pcd', '001058.pcd', '001059.pcd', '001060.pcd', '001061.pcd', '001062.pcd', '001063.pcd', '001064.pcd', '001065.pcd', '001066.pcd', '001067.pcd', '001068.pcd', '001069.pcd', '001070.pcd', '001071.pcd', '001072.pcd', '001073.pcd', '001074.pcd', '001075.pcd', '001076.pcd', '001077.pcd', '001078.pcd', '001079.pcd', '001080.pcd', '001081.pcd', '001082.pcd', '001083.pcd', '001084.pcd', '001085.pcd', '001086.pcd', '001087.pcd', '001088.pcd', '001089.pcd', '001090.pcd', '001091.pcd', '001092.pcd', '001093.pcd', '001094.pcd', '001095.pcd', '001096.pcd', '001097.pcd', '001098.pcd', '001099.pcd', '001100.pcd', '001101.pcd', '001102.pcd', '001103.pcd', '001104.pcd', '001105.pcd', '001106.pcd', '001107.pcd', '001108.pcd', '001109.pcd', '001110.pcd', '001111.pcd', '001112.pcd', '001113.pcd', '001114.pcd', '001115.pcd', '001116.pcd', '001117.pcd', '001118.pcd', '001119.pcd', '001120.pcd', '001121.pcd', '001122.pcd', '001123.pcd', '001124.pcd', '001125.pcd', '001126.pcd', '001127.pcd', '001128.pcd', '001129.pcd', '001130.pcd', '001131.pcd', '001132.pcd', '001133.pcd', '001134.pcd', '001135.pcd', '001136.pcd', '001137.pcd', '001138.pcd', '001139.pcd', '001140.pcd', '001141.pcd', '001142.pcd', '001143.pcd', '001144.pcd', '001145.pcd', '001146.pcd', '001147.pcd', '001148.pcd', '001149.pcd', '001150.pcd', '001151.pcd', '001152.pcd', '001153.pcd', '001154.pcd', '001155.pcd', '001156.pcd', '001157.pcd', '001158.pcd', '001159.pcd', '001160.pcd', '001161.pcd', '001162.pcd', '001163.pcd', '001164.pcd', '001165.pcd', '001166.pcd', '001167.pcd', '001168.pcd', '001169.pcd', '001170.pcd', '001171.pcd', '001172.pcd', '001173.pcd', '001174.pcd', '001175.pcd', '001176.pcd', '001177.pcd', '001178.pcd', '001179.pcd', '001180.pcd', '001181.pcd', '001182.pcd', '001183.pcd', '001184.pcd', '001185.pcd', '001186.pcd', '001187.pcd', '001188.pcd', '001189.pcd', '001190.pcd', '001191.pcd', '001192.pcd', '001193.pcd', '001194.pcd', '001195.pcd', '001196.pcd', '001197.pcd', '001198.pcd', '001199.pcd', '001200.pcd', '001201.pcd', '001202.pcd', '001203.pcd', '001204.pcd', '001205.pcd', '001206.pcd', '001207.pcd', '001208.pcd', '001209.pcd', '001210.pcd', '001211.pcd', '001212.pcd', '001213.pcd', '001214.pcd', '001215.pcd', '001216.pcd', '001217.pcd', '001218.pcd', '001219.pcd', '001220.pcd', '001221.pcd', '001222.pcd', '001223.pcd', '001224.pcd', '001225.pcd', '001226.pcd', '001227.pcd', '001228.pcd', '001229.pcd', '001230.pcd', '001231.pcd', '001232.pcd', '001233.pcd', '001234.pcd', '001235.pcd', '001236.pcd', '001237.pcd', '001238.pcd', '001239.pcd', '001240.pcd', '001241.pcd', '001242.pcd', '001243.pcd', '001244.pcd', '001245.pcd', '001246.pcd', '001247.pcd', '001248.pcd', '001249.pcd', '001250.pcd', '001251.pcd', '001252.pcd', '001253.pcd', '001254.pcd', '001255.pcd', '001256.pcd', '001257.pcd', '001258.pcd', '001259.pcd', '001260.pcd', '001261.pcd', '001262.pcd', '001263.pcd', '001264.pcd', '001265.pcd', '001266.pcd', '001267.pcd', '001268.pcd', '001269.pcd', '001270.pcd', '001271.pcd', '001272.pcd', '001273.pcd', '001274.pcd', '001275.pcd', '001276.pcd', '001277.pcd', '001278.pcd', '001279.pcd', '001280.pcd', '001281.pcd', '001282.pcd', '001283.pcd', '001284.pcd', '001285.pcd', '001286.pcd', '001287.pcd', '001288.pcd', '001289.pcd', '001290.pcd', '001291.pcd', '001292.pcd', '001293.pcd', '001294.pcd', '001295.pcd', '001296.pcd', '001297.pcd', '001298.pcd', '001299.pcd', '001300.pcd', '001301.pcd', '001302.pcd', '001303.pcd', '001304.pcd', '001305.pcd', '001306.pcd', '001307.pcd', '001308.pcd', '001309.pcd', '001310.pcd', '001311.pcd', '001312.pcd', '001313.pcd', '001314.pcd', '001315.pcd', '001316.pcd', '001317.pcd', '001318.pcd', '001319.pcd', '001320.pcd', '001321.pcd', '001322.pcd', '001323.pcd', '001324.pcd', '001325.pcd', '001326.pcd', '001327.pcd', '001328.pcd', '001329.pcd', '001330.pcd', '001331.pcd', '001332.pcd', '001333.pcd', '001334.pcd', '001335.pcd', '001336.pcd', '001337.pcd', '001338.pcd', '001339.pcd', '001340.pcd', '001341.pcd', '001342.pcd', '001343.pcd', '001344.pcd', '001345.pcd', '001346.pcd', '001347.pcd', '001348.pcd', '001349.pcd', '001350.pcd', '001351.pcd', '001352.pcd', '001353.pcd', '001354.pcd', '001355.pcd', '001356.pcd', '001357.pcd', '001358.pcd', '001359.pcd', '001360.pcd', '001361.pcd', '001362.pcd', '001363.pcd', '001364.pcd', '001365.pcd', '001366.pcd', '001367.pcd', '001368.pcd', '001369.pcd', '001370.pcd', '001371.pcd', '001372.pcd', '001373.pcd', '001374.pcd', '001375.pcd', '001376.pcd', '001377.pcd', '001378.pcd', '001379.pcd', '001380.pcd', '001381.pcd', '001382.pcd', '001383.pcd', '001384.pcd', '001385.pcd', '001386.pcd', '001387.pcd', '001388.pcd', '001389.pcd', '001390.pcd', '001391.pcd', '001392.pcd', '001393.pcd', '001394.pcd', '001395.pcd', '001396.pcd', '001397.pcd', '001398.pcd', '001399.pcd', '001400.pcd', '001401.pcd', '001402.pcd', '001403.pcd', '001404.pcd', '001405.pcd', '001406.pcd', '001407.pcd', '001408.pcd', '001409.pcd', '001410.pcd', '001411.pcd', '001412.pcd', '001413.pcd', '001414.pcd', '001415.pcd', '001416.pcd', '001417.pcd', '001418.pcd', '001419.pcd', '001420.pcd', '001421.pcd', '001422.pcd', '001423.pcd', '001424.pcd', '001425.pcd', '001426.pcd', '001427.pcd', '001428.pcd', '001429.pcd', '001430.pcd', '001431.pcd', '001432.pcd', '001433.pcd', '001434.pcd', '001435.pcd', '001436.pcd', '001437.pcd', '001438.pcd', '001439.pcd', '001440.pcd'])"
      ]
     },
     "execution_count": 9,
     "metadata": {},
     "output_type": "execute_result"
    }
   ],
   "source": [
    "label.keys()"
   ]
  },
  {
   "cell_type": "code",
   "execution_count": 10,
   "metadata": {},
   "outputs": [
    {
     "data": {
      "text/plain": [
       "dict_keys(['attributes', 'box', 'file_id', 'label_id', 'observation_angle'])"
      ]
     },
     "execution_count": 10,
     "metadata": {},
     "output_type": "execute_result"
    }
   ],
   "source": [
    "label['000000.pcd'][0].keys()"
   ]
  },
  {
   "cell_type": "code",
   "execution_count": 11,
   "metadata": {},
   "outputs": [
    {
     "name": "stdout",
     "output_type": "stream",
     "text": [
      "Example of a label: cx=-1.42, cy=-23.13, cz=0.435, w=0.53, h=1.79, l=0.73, rot_z=-5.38696\n"
     ]
    }
   ],
   "source": [
    "# So for each PCD file, we have a list of boxes (which are labels on that frame)\n",
    "tmp = label['000000.pcd'][0][\"box\"]\n",
    "cx, cy, cz, w, h, l, rot_z = tmp[\"cx\"], tmp[\"cy\"], tmp[\"cz\"], tmp[\"w\"], tmp[\"h\"], tmp[\"l\"], tmp[\"rot_z\"]\n",
    "print(f\"Example of a label: cx={cx}, cy={cy}, cz={cz}, w={w}, h={h}, l={l}, rot_z={rot_z}\")"
   ]
  },
  {
   "cell_type": "markdown",
   "metadata": {},
   "source": [
    "## Explore pointclouds"
   ]
  },
  {
   "cell_type": "code",
   "execution_count": 12,
   "metadata": {},
   "outputs": [
    {
     "data": {
      "text/plain": [
       "'bytes-cafe-2019-02-07_0.json'"
      ]
     },
     "execution_count": 12,
     "metadata": {},
     "output_type": "execute_result"
    }
   ],
   "source": [
    "label_files[23]"
   ]
  },
  {
   "cell_type": "code",
   "execution_count": 13,
   "metadata": {},
   "outputs": [],
   "source": [
    "PCD_FILE = 'bytes-cafe-2019-02-07_0'"
   ]
  },
  {
   "cell_type": "code",
   "execution_count": 14,
   "metadata": {},
   "outputs": [],
   "source": [
    "pcd = o3d.io.read_point_cloud(os.path.join(DATA_ROOT, PCD_DIR, PCD_FILE, \"000000.pcd\"))\n",
    "pcd = np.asarray(pcd.points)"
   ]
  },
  {
   "cell_type": "code",
   "execution_count": 15,
   "metadata": {},
   "outputs": [
    {
     "name": "stdout",
     "output_type": "stream",
     "text": [
      "(1506762, 3)\n"
     ]
    },
    {
     "data": {
      "text/plain": [
       "True"
      ]
     },
     "execution_count": 15,
     "metadata": {},
     "output_type": "execute_result"
    }
   ],
   "source": [
    "# Union PCDS\n",
    "pcd_root = os.path.join(DATA_ROOT, PCD_DIR, PCD_FILE)\n",
    "pcd_files = [filename for filename in os.listdir(pcd_root) if filename.endswith(\".pcd\")]\n",
    "\n",
    "pcds = []\n",
    "idx = 0\n",
    "for pcd_file in pcd_files:\n",
    "    idx += 1\n",
    "    if idx % 20 == 1:\n",
    "        pcd = o3d.io.read_point_cloud(os.path.join(pcd_root, pcd_file))\n",
    "        pcds.append(np.asarray(pcd.points))\n",
    "pcd = np.concatenate(pcds, axis=0)\n",
    "print(pcd.shape)\n",
    "o3d.io.write_point_cloud(\"test.pcd\", o3d.geometry.PointCloud(o3d.utility.Vector3dVector(pcd)))"
   ]
  },
  {
   "cell_type": "code",
   "execution_count": 16,
   "metadata": {},
   "outputs": [],
   "source": [
    "octree = octomap.OcTree(0.1)\n",
    "octree.insertPointCloud(\n",
    "        pointcloud=pcds[0],\n",
    "        origin=np.array([0,0,0], dtype=float),\n",
    "        maxrange=2,\n",
    ")"
   ]
  },
  {
   "cell_type": "code",
   "execution_count": 18,
   "metadata": {},
   "outputs": [
    {
     "ename": "AttributeError",
     "evalue": "'octomap.leaf_iterator' object has no attribute '_leaf_iterator__is_end'",
     "output_type": "error",
     "traceback": [
      "\u001b[0;31m---------------------------------------------------------------------------\u001b[0m",
      "\u001b[0;31mAttributeError\u001b[0m                            Traceback (most recent call last)",
      "Cell \u001b[0;32mIn[18], line 1\u001b[0m\n\u001b[0;32m----> 1\u001b[0m occupied, empty \u001b[38;5;241m=\u001b[39m \u001b[43moctree\u001b[49m\u001b[38;5;241;43m.\u001b[39;49m\u001b[43mextractPointCloud\u001b[49m\u001b[43m(\u001b[49m\u001b[43m)\u001b[49m\n",
      "File \u001b[0;32moctomap/octomap.pyx:515\u001b[0m, in \u001b[0;36moctomap.OcTree.extractPointCloud\u001b[0;34m()\u001b[0m\n",
      "File \u001b[0;32moctomap/octomap.pyx:257\u001b[0m, in \u001b[0;36m__iter__\u001b[0;34m()\u001b[0m\n",
      "\u001b[0;31mAttributeError\u001b[0m: 'octomap.leaf_iterator' object has no attribute '_leaf_iterator__is_end'"
     ]
    }
   ],
   "source": [
    "occupied, empty = octree.extractPointCloud()"
   ]
  },
  {
   "cell_type": "code",
   "execution_count": null,
   "metadata": {},
   "outputs": [],
   "source": []
  }
 ],
 "metadata": {
  "kernelspec": {
   "display_name": "Python 3",
   "language": "python",
   "name": "python3"
  },
  "language_info": {
   "codemirror_mode": {
    "name": "ipython",
    "version": 3
   },
   "file_extension": ".py",
   "mimetype": "text/x-python",
   "name": "python",
   "nbconvert_exporter": "python",
   "pygments_lexer": "ipython3",
   "version": "3.10.8"
  }
 },
 "nbformat": 4,
 "nbformat_minor": 2
}
